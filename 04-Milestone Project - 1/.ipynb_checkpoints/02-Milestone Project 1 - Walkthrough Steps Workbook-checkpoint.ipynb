{
 "cells": [
  {
   "cell_type": "markdown",
   "metadata": {},
   "source": [
    "# Milestone Project 1: Walkthrough Steps Workbook\n",
    "\n",
    "Below is a set of steps for you to follow to try to create the Tic Tac Toe Milestone Project game!"
   ]
  },
  {
   "cell_type": "markdown",
   "metadata": {},
   "source": [
    "#### Some suggested tools before you get started:\n",
    "To take input from a user:\n",
    "\n",
    "    player1 = input(\"Please pick a marker 'X' or 'O'\")\n",
    "    \n",
    "Note that input() takes in a string. If you need an integer value, use\n",
    "\n",
    "    position = int(input('Please enter a number'))\n",
    "    \n",
    "<br>To clear the screen between moves:\n",
    "\n",
    "    from IPython.display import clear_output\n",
    "    clear_output()\n",
    "    \n",
    "Note that clear_output() will only work in jupyter. To clear the screen in other IDEs, consider:\n",
    "\n",
    "    print('\\n'*100)\n",
    "    \n",
    "This scrolls the previous board up out of view. Now on to the program!"
   ]
  },
  {
   "cell_type": "markdown",
   "metadata": {},
   "source": [
    "**Step 1: Write a function that can print out a board. Set up your board as a list, where each index 1-9 corresponds with a number on a number pad, so you get a 3 by 3 board representation.**"
   ]
  },
  {
   "cell_type": "code",
   "execution_count": 2,
   "metadata": {},
   "outputs": [],
   "source": [
    "from IPython.display import clear_output\n",
    "\n",
    "def display_board(board):\n",
    "    # print out 3x3 board from input list\n",
    "    print(board[0] + \" | \" + board[1] + \" | \" + board[2])\n",
    "    print(\"---------\")\n",
    "    print(board[3] + \" | \" + board[4] + \" | \" + board[5])\n",
    "    print(\"---------\")\n",
    "    print(board[6] + \" | \" + board[7] + \" | \" + board[8])"
   ]
  },
  {
   "cell_type": "markdown",
   "metadata": {},
   "source": [
    "**TEST Step 1:** run your function on a test version of the board list, and make adjustments as necessary"
   ]
  },
  {
   "cell_type": "code",
   "execution_count": 3,
   "metadata": {},
   "outputs": [
    {
     "name": "stdout",
     "output_type": "stream",
     "text": [
      "# | X | O\n",
      "---------\n",
      "X | O | X\n",
      "---------\n",
      "O | X | O\n"
     ]
    }
   ],
   "source": [
    "test_board = ['#','X','O','X','O','X','O','X','O','X']\n",
    "display_board(test_board)"
   ]
  },
  {
   "cell_type": "markdown",
   "metadata": {},
   "source": [
    "**Step 2: Write a function that can take in a player input and assign their marker as 'X' or 'O'. Think about using *while* loops to continually ask until you get a correct answer.**"
   ]
  },
  {
   "cell_type": "code",
   "execution_count": 4,
   "metadata": {},
   "outputs": [],
   "source": [
    "\n",
    "def player_input():\n",
    "    # input validation for 'X' and 'O'\n",
    "    while(1):\n",
    "        player1 = input(\"Please pick a marker 'X' or 'O'\\n\")\n",
    "        if player1 == 'X' or player1 == 'O':\n",
    "            return player1\n",
    "        else:\n",
    "            print(\"Wrong Input!\")"
   ]
  },
  {
   "cell_type": "markdown",
   "metadata": {},
   "source": [
    "**TEST Step 2:** run the function to make sure it returns the desired output"
   ]
  },
  {
   "cell_type": "code",
   "execution_count": 5,
   "metadata": {},
   "outputs": [
    {
     "name": "stdout",
     "output_type": "stream",
     "text": [
      "Please pick a marker 'X' or 'O'\n",
      "\n",
      "Wrong Input!\n",
      "Please pick a marker 'X' or 'O'\n",
      "\n",
      "Wrong Input!\n",
      "Please pick a marker 'X' or 'O'\n",
      "X\n"
     ]
    },
    {
     "data": {
      "text/plain": [
       "'X'"
      ]
     },
     "execution_count": 5,
     "metadata": {},
     "output_type": "execute_result"
    }
   ],
   "source": [
    "player_input()"
   ]
  },
  {
   "cell_type": "markdown",
   "metadata": {},
   "source": [
    "**Step 3: Write a function that takes in the board list object, a marker ('X' or 'O'), and a desired position (number 1-9) and assigns it to the board.**"
   ]
  },
  {
   "cell_type": "code",
   "execution_count": 6,
   "metadata": {},
   "outputs": [],
   "source": [
    "def place_marker(board, marker, position):\n",
    "    # Assign marker into a specific board list position\n",
    "    board[position] = marker"
   ]
  },
  {
   "cell_type": "markdown",
   "metadata": {},
   "source": [
    "**TEST Step 3:** run the place marker function using test parameters and display the modified board"
   ]
  },
  {
   "cell_type": "code",
   "execution_count": 7,
   "metadata": {},
   "outputs": [
    {
     "name": "stdout",
     "output_type": "stream",
     "text": [
      "# | X | X\n",
      "---------\n",
      "X | O | X\n",
      "---------\n",
      "O | X | O\n"
     ]
    }
   ],
   "source": [
    "place_marker(test_board,'X', 2)\n",
    "display_board(test_board)"
   ]
  },
  {
   "cell_type": "markdown",
   "metadata": {},
   "source": [
    "**Step 4: Write a function that takes in a board and a mark (X or O) and then checks to see if that mark has won. **"
   ]
  },
  {
   "cell_type": "code",
   "execution_count": 8,
   "metadata": {},
   "outputs": [],
   "source": [
    "def win_check(board, mark):\n",
    "    # Verify horizontal, vertical, and diagonal win condition for 'X' or 'O'\n",
    "    print(board)\n",
    "    # Horizontal Win Condition\n",
    "    if board[0] == mark and board[1] == mark and board[2] == mark:\n",
    "        return True\n",
    "    elif board[3] == mark and board[4] == mark and board[5] == mark:\n",
    "        return True\n",
    "    elif board[6] == mark and board[7] == mark and board[8] == mark:\n",
    "        return True\n",
    "    \n",
    "    # Vertical Win Condition\n",
    "    elif board[0] == mark and board[3] == mark and board[6] == mark:\n",
    "        return True\n",
    "    elif board[1] == mark and board[4] == mark and board[7] == mark:\n",
    "        return True\n",
    "    elif board[2] == mark and board[5] == mark and board[8] == mark:\n",
    "        return True\n",
    "        \n",
    "    # Diagonal Win Condition\n",
    "    elif board[0] == mark and board[4] == mark and board[8] == mark:\n",
    "        return True\n",
    "    elif board[2] == mark and board[4] == mark and board[6] == mark:\n",
    "        return True\n",
    "    else:\n",
    "        return False"
   ]
  },
  {
   "cell_type": "markdown",
   "metadata": {},
   "source": [
    "**TEST Step 4:** run the win_check function against our test_board - it should return True"
   ]
  },
  {
   "cell_type": "code",
   "execution_count": 9,
   "metadata": {},
   "outputs": [
    {
     "name": "stdout",
     "output_type": "stream",
     "text": [
      "['#', 'X', 'X', 'X', 'O', 'X', 'O', 'X', 'O', 'X']\n"
     ]
    },
    {
     "data": {
      "text/plain": [
       "False"
      ]
     },
     "execution_count": 9,
     "metadata": {},
     "output_type": "execute_result"
    }
   ],
   "source": [
    "win_check(test_board,'X')"
   ]
  },
  {
   "cell_type": "markdown",
   "metadata": {},
   "source": [
    "**Step 5: Write a function that uses the random module to randomly decide which player goes first. You may want to lookup random.randint() Return a string of which player went first.**"
   ]
  },
  {
   "cell_type": "code",
   "execution_count": 10,
   "metadata": {},
   "outputs": [],
   "source": [
    "import random\n",
    "\n",
    "def choose_first():\n",
    "    rand = random.randint(0, 1)\n",
    "    if rand == 0:\n",
    "        return 'Player One'\n",
    "    elif rand == 1:\n",
    "        return 'Player Two'"
   ]
  },
  {
   "cell_type": "markdown",
   "metadata": {},
   "source": [
    "**Step 6: Write a function that returns a boolean indicating whether a space on the board is freely available.**"
   ]
  },
  {
   "cell_type": "code",
   "execution_count": 11,
   "metadata": {},
   "outputs": [],
   "source": [
    "def space_check(board, position):\n",
    "    # Check if space on board is avaliable, return True or False\n",
    "    return board[position] == \" \""
   ]
  },
  {
   "cell_type": "markdown",
   "metadata": {},
   "source": [
    "**Step 7: Write a function that checks if the board is full and returns a boolean value. True if full, False otherwise.**"
   ]
  },
  {
   "cell_type": "code",
   "execution_count": 12,
   "metadata": {},
   "outputs": [],
   "source": [
    "def full_board_check(board):\n",
    "    # Check if board is full, True if full, False if not full\n",
    "    for i in board:\n",
    "        if i == \"\":\n",
    "            return False\n",
    "    return True"
   ]
  },
  {
   "cell_type": "markdown",
   "metadata": {},
   "source": [
    "**Step 8: Write a function that asks for a player's next position (as a number 1-9) and then uses the function from step 6 to check if it's a free position. If it is, then return the position for later use.**"
   ]
  },
  {
   "cell_type": "code",
   "execution_count": 13,
   "metadata": {},
   "outputs": [],
   "source": [
    "def player_choice(board):\n",
    "    # prompt user for next position (1-9), then checks free position from \n",
    "    # space_check()\n",
    "    position = int(input('Please enter a number\\n'))\n",
    "    if space_check(board, position):\n",
    "        return position"
   ]
  },
  {
   "cell_type": "markdown",
   "metadata": {},
   "source": [
    "**Step 9: Write a function that asks the player if they want to play again and returns a boolean True if they do want to play again.**"
   ]
  },
  {
   "cell_type": "code",
   "execution_count": 14,
   "metadata": {},
   "outputs": [],
   "source": [
    "def replay():\n",
    "    # prompt user if they want to play again\n",
    "    r = input(\"Play Again? (y/n)\")\n",
    "    if r == 'y':\n",
    "        return True\n",
    "    else:\n",
    "        return False"
   ]
  },
  {
   "cell_type": "markdown",
   "metadata": {
    "collapsed": true
   },
   "source": [
    "**Step 10: Here comes the hard part! Use while loops and the functions you've made to run the game!**"
   ]
  },
  {
   "cell_type": "code",
   "execution_count": null,
   "metadata": {},
   "outputs": [
    {
     "name": "stdout",
     "output_type": "stream",
     "text": [
      "Player Two goes first!\n"
     ]
    }
   ],
   "source": [
    "print('Welcome.')\n",
    "done = None\n",
    "\n",
    "\n",
    "while True:\n",
    "    # Initialize Empty Board\n",
    "    board = [' ',' ',' ',' ',' ',' ',' ',' ', ' ']\n",
    "    \n",
    "    # Select who goes first\n",
    "    turn = choose_first()\n",
    "    print(turn + \" goes first!\") \n",
    "    \n",
    "    # Choose marker\n",
    "    marker = player_input()\n",
    "    clear_output()\n",
    "\n",
    "    \n",
    "    while True:\n",
    "        # Place position\n",
    "        position = player_choice(board)\n",
    "        place_marker(board, marker, position)\n",
    "        clear_output()\n",
    "        display_board(board)\n",
    "        \n",
    "        # Check Win Condition\n",
    "        # Need to mess with marker logic\n",
    "        if win_check(board, marker):\n",
    "            print(marker + \" won!\")\n",
    "            break\n",
    "\n",
    "        # Switch marker\n",
    "        if marker == 'X':\n",
    "            marker = 'O'\n",
    "        elif marker == 'O':\n",
    "            marker = 'X'\n",
    "            \n",
    "    if replay() == False:\n",
    "        break\n",
    "        \n",
    "    clear_output()\n",
    "    \n",
    "print(\"The End....\")"
   ]
  },
  {
   "cell_type": "markdown",
   "metadata": {
    "collapsed": true
   },
   "source": [
    "## Good Job!"
   ]
  },
  {
   "cell_type": "code",
   "execution_count": null,
   "metadata": {},
   "outputs": [],
   "source": []
  },
  {
   "cell_type": "code",
   "execution_count": null,
   "metadata": {},
   "outputs": [],
   "source": []
  },
  {
   "cell_type": "code",
   "execution_count": null,
   "metadata": {},
   "outputs": [],
   "source": []
  },
  {
   "cell_type": "code",
   "execution_count": null,
   "metadata": {},
   "outputs": [],
   "source": []
  },
  {
   "cell_type": "code",
   "execution_count": null,
   "metadata": {},
   "outputs": [],
   "source": []
  },
  {
   "cell_type": "code",
   "execution_count": null,
   "metadata": {},
   "outputs": [],
   "source": []
  },
  {
   "cell_type": "code",
   "execution_count": null,
   "metadata": {},
   "outputs": [],
   "source": []
  },
  {
   "cell_type": "code",
   "execution_count": null,
   "metadata": {},
   "outputs": [],
   "source": []
  },
  {
   "cell_type": "code",
   "execution_count": null,
   "metadata": {},
   "outputs": [],
   "source": []
  },
  {
   "cell_type": "code",
   "execution_count": null,
   "metadata": {},
   "outputs": [],
   "source": []
  },
  {
   "cell_type": "code",
   "execution_count": null,
   "metadata": {},
   "outputs": [],
   "source": []
  },
  {
   "cell_type": "code",
   "execution_count": null,
   "metadata": {},
   "outputs": [],
   "source": []
  },
  {
   "cell_type": "code",
   "execution_count": null,
   "metadata": {},
   "outputs": [],
   "source": []
  },
  {
   "cell_type": "code",
   "execution_count": null,
   "metadata": {},
   "outputs": [],
   "source": []
  },
  {
   "cell_type": "code",
   "execution_count": null,
   "metadata": {},
   "outputs": [],
   "source": []
  }
 ],
 "metadata": {
  "kernelspec": {
   "display_name": "Python 3",
   "language": "python",
   "name": "python3"
  }
 },
 "nbformat": 4,
 "nbformat_minor": 1
}
